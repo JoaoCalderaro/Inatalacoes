{
 "cells": [
  {
   "cell_type": "code",
   "execution_count": 11,
   "metadata": {},
   "outputs": [
    {
     "name": "stdout",
     "output_type": "stream",
     "text": [
      "l1 =  2.6000\n",
      "Permeabilidade relativa 1 = 596.831\n",
      "Fluxo 1  = 0.0016875\n",
      "Permeabilidade relativa 2 = 855.4578\n",
      "Fluxo 2  = 0.024187\n"
     ]
    }
   ],
   "source": [
    "%Questão 1-12\n",
    "l1 = 4*(0.15 + 0.5) % Comprimento da região 1\n",
    "a1 = 0.15*0.15; % Área Total m^2\n",
    "u0 = 4*pi*1E-7; % Permeabilidade do vácuo\n",
    "n1= 600; % Número de espiras na perna esquerda\n",
    "n2 = 200;% Número de espiras na perna direita\n",
    "i1 = 0.5; % Corrente em ampères na perna esquerda\n",
    "i2 = 1.0; % Corrente em ampères na perna direita\n",
    "% Cálculo da FMM (mmf)\n",
    "mmfe = n1 * i1; %Esquerdo\n",
    "mmfd = n2 * i2; %Direito\n",
    "mmf = mmfe+mmfd; %FMM Total\n",
    "%Para H = 100 e B = 0.075\n",
    "H = 100;\n",
    "B = 0.075;\n",
    "uc1 = B/H;\n",
    "ur1 = uc1/u0;\n",
    "% Cálculo da primeira relutância\n",
    "r1 = l1 / (ur1 * u0 * a1);\n",
    "% Cálculo da segunda relutância\n",
    "r2 = l1 / (ur1 * u0 * a1);\n",
    "req = (1/r1) + (1/r2); \n",
    "flux1 = B*a1;\n",
    "%Para H = 1000 e B = 1.075\n",
    "H = 1000;\n",
    "B = 1.075;\n",
    "uc2 = B/H;\n",
    "ur2 = uc2/u0;\n",
    "% Cálculo da primeira relutância\n",
    "r1 = l1 / (ur2 * u0 * a1);\n",
    "% Cálculo da segunda relutância\n",
    "r2 = l1 / (ur2 * u0 * a1);\n",
    "req = (1/r1) + (1/r2); \n",
    "flux2 = B*a1;\n",
    "% Mostre o resultado\n",
    "disp (['Permeabilidade relativa 1 = ' num2str(ur1)]);\n",
    "disp (['Fluxo 1  = ' num2str(flux1)]);\n",
    "disp (['Permeabilidade relativa 2 = ' num2str(ur2)]);\n",
    "disp (['Fluxo 2  = ' num2str(flux2)]);\n",
    "% Não foi uma boa suposição utilizar a permealidade relativa constante, isto é, vemos que na medida que a \n",
    "% intensidade do campo magnética e a densidade do fluxo magnético aumanta ao logo da curva mostrada na figura P1-9,\n",
    "% o fluxo aumenta.\n",
    " "
   ]
  },
  {
   "cell_type": "code",
   "execution_count": null,
   "metadata": {},
   "outputs": [],
   "source": []
  }
 ],
 "metadata": {
  "kernelspec": {
   "display_name": "Octave",
   "language": "octave",
   "name": "octave"
  },
  "language_info": {
   "file_extension": ".m",
   "help_links": [
    {
     "text": "GNU Octave",
     "url": "https://www.gnu.org/software/octave/support.html"
    },
    {
     "text": "Octave Kernel",
     "url": "https://github.com/Calysto/octave_kernel"
    },
    {
     "text": "MetaKernel Magics",
     "url": "https://metakernel.readthedocs.io/en/latest/source/README.html"
    }
   ],
   "mimetype": "text/x-octave",
   "name": "octave",
   "version": "5.2.0"
  }
 },
 "nbformat": 4,
 "nbformat_minor": 4
}
