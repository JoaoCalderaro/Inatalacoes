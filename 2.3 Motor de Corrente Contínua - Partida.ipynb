{
 "cells": [
  {
   "cell_type": "markdown",
   "metadata": {},
   "source": [
    "# 2.3 Motor de Corrente Contínua - Partida/Arranque\n",
    "Capítulo 8 do Chapman 5a Edição "
   ]
  },
  {
   "cell_type": "markdown",
   "metadata": {},
   "source": [
    "## Tarefa\n",
    "Resolva os seguintes problemas"
   ]
  },
  {
   "attachments": {},
   "cell_type": "markdown",
   "metadata": {},
   "source": [
    "1. Um motor de corrente contínua de imã permanente deve partir utilizando resistores em série com a armadura de forma a restringir a corrente de partida em Iap = 2,5 x IaN. Quantos estágios são necessários e qual o valor de cada resistor? Considere a carga uma serra que possui uma curva de torque que provoca a seguinte situação:\n",
    "\n",
    "$I_a = 0,0005.{e_a}^2$  [A]\n",
    "\n",
    "Dados do motor: Va = 220 V; IaN = 25 A a 200 rad/s."
   ]
  },
  {
   "cell_type": "markdown",
   "metadata": {},
   "source": [
    "2. Calcule o exercício anterior, considerando que a carga é um elevador."
   ]
  },
  {
   "cell_type": "markdown",
   "metadata": {},
   "source": [
    "3. Calcule o exercício anterior, fazendo a partida usando uma fonte de tensão controlável."
   ]
  },
  {
   "cell_type": "markdown",
   "metadata": {},
   "source": [
    "4. Um motor de corrente contínua com excitação independente deve partir utilizando resistores em série com a armadura de forma a restringir a corrente de partida em Iap = 3 x IaN. A carga mecânica acoplada ao eixo é um elevador que requer o torque nominal. Calcule o tempo necessário para partir. Desconsidere as perdas mecânicas internas do motor (atrito e ventilação).\n",
    "\n",
    "$J . \\frac{\\mathrm{d} \\omega}{\\mathrm{d} t} = T_m - T_L$, sendo $\\omega$ a velocidade angular do motor, $T_m$ o torque de saída do motor e $T_L$ o torque da carga\n",
    "\n",
    "Dados do motor: Va = 100 V; Vescovas = 1,5 V; Ra = 0,5 $\\Omega$; IaN = 30 A, Jm = 0,633814 kg.m2, $n_N$ = 1000 rpm."
   ]
  },
  {
   "cell_type": "markdown",
   "metadata": {},
   "source": [
    "5. Um motor Shunt de 10hp tem um rendimento à plena carga de 85%. A resistência da armadura é 0.25 Ω. Determine o valor da resistência de arranque necessária para limitar a corrente a 1.5 a corrente nominal. Ignore a corrente de campo. Qual o valor da fcem, quando a corrente cai para o valor de plena carga com a resistência de arranque ainda no circuito?"
   ]
  },
  {
   "cell_type": "markdown",
   "metadata": {},
   "source": [
    "6. Um motor shunt de 120 V tem os seguintes parâmetros: RI =0.40 Ω Rd = 120 Ω, perdas rotacionais de 240 W. À plena carga a corrente de linha é 19.5 A e o motor roda 1200 rpm. Calcule as resistências de um arrancador de X estágios para limitar a corrente no arranque a 140% da corrente nominal. Calcule a velocidade do motor em cada passo e a velocidade estabilizada de operação (velocidade final)."
   ]
  },
  {
   "cell_type": "markdown",
   "metadata": {},
   "source": [
    "7. Um motor série eleva uma carga que requer um binário constante de 180 Nm. A tensão de alimentação é de 250V e a resistência interna (RI+Rs) = 0.65 Ω. Ignore os efeitos das perdas rotacionais e de reação do induzido. a) A velocidade do elevador é controlada por um chopper de estado sólido, com período de trabalho (duty cycle) de 60%. Ou seja, a tensão é reduzida a 60% do valor nominal. A corrente do motor é de 36A. Determine a velocidade, a potência do motor e o rendimento do sistema."
   ]
  },
  {
   "cell_type": "markdown",
   "metadata": {},
   "source": [
    "8. No problema anterior, se se controlar a velocidade por inserção de resistência em série com a armadura, qual seria o valor necessário para se obter a referida velocidade. Calcule o rendimento deste sistema e compare-o com o obtido no problema anterior."
   ]
  },
  {
   "cell_type": "markdown",
   "metadata": {},
   "source": [
    "9. Um motor shunt de 220 V, tem uma resistência de armadura de 0.3 Ω. Calcule: a) A resistência necessária a limitar a corrente a 80 A no arranque, b) O valor da força contra – electromotriz, quando a corrente na armadura decresceu para 30 A com a resistência ainda no circuito."
   ]
  }
 ],
 "metadata": {
  "kernelspec": {
   "display_name": "Octave",
   "language": "octave",
   "name": "octave"
  },
  "language_info": {
   "file_extension": ".m",
   "help_links": [
    {
     "text": "GNU Octave",
     "url": "https://www.gnu.org/software/octave/support.html"
    },
    {
     "text": "Octave Kernel",
     "url": "https://github.com/Calysto/octave_kernel"
    },
    {
     "text": "MetaKernel Magics",
     "url": "https://metakernel.readthedocs.io/en/latest/source/README.html"
    }
   ],
   "mimetype": "text/x-octave",
   "name": "octave",
   "version": "5.2.0"
  }
 },
 "nbformat": 4,
 "nbformat_minor": 4
}
